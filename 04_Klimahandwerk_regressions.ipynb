{
 "cells": [
  {
   "cell_type": "markdown",
   "id": "80ecf276",
   "metadata": {},
   "source": [
    "## <center>Regulation, government quality, and green handicraft growth</center>\n",
    "## <center>Data analysis : regressions</center>\n",
    "\n",
    "#### DIW Berlin, Caroline Stiel\n",
    "\n",
    "last modified: October 30, 2024 (cs)\n",
    "\n",
    "-----------------------------------------"
   ]
  },
  {
   "cell_type": "markdown",
   "id": "94413eeb",
   "metadata": {},
   "source": [
    "#### 1. Import libraries, define paths"
   ]
  },
  {
   "cell_type": "code",
   "execution_count": null,
   "id": "3b91b8cc",
   "metadata": {},
   "outputs": [],
   "source": [
    "import pandas as pd\n",
    "import numpy as np\n",
    "import matplotlib.pyplot as plt\n",
    "import pathlib\n",
    "import seaborn as sns\n",
    "import statsmodels.formula.api as smf"
   ]
  },
  {
   "cell_type": "code",
   "execution_count": null,
   "id": "a4ef2565",
   "metadata": {},
   "outputs": [],
   "source": [
    "MAIN = pathlib.Path().resolve()\n",
    "ORIG = MAIN / \"origdata\" # original data\n",
    "DATA = MAIN / \"data\" # working data\n",
    "RESULTS = MAIN / \"results\" # figures etc."
   ]
  },
  {
   "cell_type": "markdown",
   "id": "53c2bcab",
   "metadata": {},
   "source": [
    "#### 2. Load green handicraft *(Klimahandwerk)* data set"
   ]
  },
  {
   "cell_type": "code",
   "execution_count": null,
   "id": "9c086f7a",
   "metadata": {},
   "outputs": [],
   "source": [
    "# data set 2013 till 2022\n",
    "# -----------------------\n",
    "dataHanQua = pd.read_csv(DATA/\"dataHanQua.csv\",delimiter=';', encoding='latin-1')\n",
    "dataHanQua = pd.DataFrame(dataHanQua)\n",
    "\n",
    "# consider only years with government quality data (2013,2017,2021)\n",
    "# -----------------------------------------------------------------\n",
    "dataHanQua = dataHanQua[dataHanQua['EQI'].isnull()==False]\n",
    "\n",
    "# browse through data frame\n",
    "# -------------------------\n",
    "with pd.option_context('display.max_rows', None, 'display.max_columns', None):\n",
    "    display(dataHanQua)"
   ]
  },
  {
   "cell_type": "markdown",
   "id": "6ce8235d",
   "metadata": {},
   "source": [
    "#### 3. Regressions"
   ]
  },
  {
   "cell_type": "code",
   "execution_count": null,
   "id": "49ed5b23",
   "metadata": {},
   "outputs": [],
   "source": [
    "# regress employees with industry FE, time FE and federal state FE\n",
    "# ----------------------------------------------------------------\n",
    "model = smf.ols(formula='employees_sum ~ EQI + bl_name + name + year', data=dataHanQua).fit()\n",
    "print(model.summary())"
   ]
  },
  {
   "cell_type": "code",
   "execution_count": null,
   "id": "a7ab6cb4",
   "metadata": {},
   "outputs": [],
   "source": [
    "# regress turnover with industry FE, time FE and federal state FE\n",
    "# ----------------------------------------------------------------\n",
    "model = smf.ols(formula='turnover ~ EQI + bl_name + name + year', data=dataHanQua).fit()\n",
    "print(model.summary())"
   ]
  },
  {
   "cell_type": "code",
   "execution_count": null,
   "id": "c359dca6",
   "metadata": {},
   "outputs": [],
   "source": []
  }
 ],
 "metadata": {
  "kernelspec": {
   "display_name": "Python 3 (ipykernel)",
   "language": "python",
   "name": "python3"
  },
  "language_info": {
   "codemirror_mode": {
    "name": "ipython",
    "version": 3
   },
   "file_extension": ".py",
   "mimetype": "text/x-python",
   "name": "python",
   "nbconvert_exporter": "python",
   "pygments_lexer": "ipython3",
   "version": "3.11.5"
  }
 },
 "nbformat": 4,
 "nbformat_minor": 5
}
